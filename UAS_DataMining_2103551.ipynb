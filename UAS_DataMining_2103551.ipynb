{
 "cells": [
  {
   "cell_type": "markdown",
   "id": "c258dbeb",
   "metadata": {},
   "source": [
    "# UAS Data Mining \n",
    "## Ardyn Rezky Fahreza - 2103551\n"
   ]
  },
  {
   "cell_type": "code",
   "execution_count": 561,
   "id": "f2e87d97",
   "metadata": {},
   "outputs": [],
   "source": [
    "#libarary untuk praproses dan EDA\n",
    "%matplotlib inline\n",
    "import numpy as np\n",
    "import pandas as pd\n",
    "import matplotlib.pyplot as plt\n",
    "import seaborn as sns\n",
    "from datetime import datetime, date"
   ]
  },
  {
   "cell_type": "code",
   "execution_count": 562,
   "id": "8f7af0be",
   "metadata": {},
   "outputs": [],
   "source": [
    "# Library untuk klasifikasi\n",
    "from sklearn.model_selection import train_test_split\n",
    "from sklearn.naive_bayes import GaussianNB\n",
    "from sklearn.metrics import classification_report\n",
    "from sklearn.metrics import accuracy_score\n",
    "from sklearn import tree\n",
    "from sklearn.ensemble import RandomForestClassifier\n",
    "import xgboost as xgb\n",
    "from sklearn.metrics import confusion_matrix\n",
    "from sklearn.model_selection import cross_val_score\n",
    "from sklearn.metrics import make_scorer\n",
    "from sklearn import preprocessing\n",
    "from sklearn.decomposition import PCA"
   ]
  },
  {
   "cell_type": "code",
   "execution_count": 563,
   "id": "aee5f10d",
   "metadata": {},
   "outputs": [
    {
     "data": {
      "text/html": [
       "<div>\n",
       "<style scoped>\n",
       "    .dataframe tbody tr th:only-of-type {\n",
       "        vertical-align: middle;\n",
       "    }\n",
       "\n",
       "    .dataframe tbody tr th {\n",
       "        vertical-align: top;\n",
       "    }\n",
       "\n",
       "    .dataframe thead th {\n",
       "        text-align: right;\n",
       "    }\n",
       "</style>\n",
       "<table border=\"1\" class=\"dataframe\">\n",
       "  <thead>\n",
       "    <tr style=\"text-align: right;\">\n",
       "      <th></th>\n",
       "      <th>prov</th>\n",
       "      <th>tahun</th>\n",
       "      <th>melek_huruf_diatas15</th>\n",
       "    </tr>\n",
       "  </thead>\n",
       "  <tbody>\n",
       "    <tr>\n",
       "      <th>0</th>\n",
       "      <td>ACEH</td>\n",
       "      <td>2022</td>\n",
       "      <td>98.25</td>\n",
       "    </tr>\n",
       "    <tr>\n",
       "      <th>1</th>\n",
       "      <td>SUMATERA UTARA</td>\n",
       "      <td>2022</td>\n",
       "      <td>99.11</td>\n",
       "    </tr>\n",
       "    <tr>\n",
       "      <th>2</th>\n",
       "      <td>SUMATERA BARAT</td>\n",
       "      <td>2022</td>\n",
       "      <td>99.29</td>\n",
       "    </tr>\n",
       "    <tr>\n",
       "      <th>3</th>\n",
       "      <td>RIAU</td>\n",
       "      <td>2022</td>\n",
       "      <td>99.18</td>\n",
       "    </tr>\n",
       "    <tr>\n",
       "      <th>4</th>\n",
       "      <td>JAMBI</td>\n",
       "      <td>2022</td>\n",
       "      <td>98.1</td>\n",
       "    </tr>\n",
       "    <tr>\n",
       "      <th>5</th>\n",
       "      <td>SUMATERA SELATAN</td>\n",
       "      <td>2022</td>\n",
       "      <td>98.65</td>\n",
       "    </tr>\n",
       "    <tr>\n",
       "      <th>6</th>\n",
       "      <td>BENGKULU</td>\n",
       "      <td>2022</td>\n",
       "      <td>97.8</td>\n",
       "    </tr>\n",
       "    <tr>\n",
       "      <th>7</th>\n",
       "      <td>LAMPUNG</td>\n",
       "      <td>2022</td>\n",
       "      <td>97.25</td>\n",
       "    </tr>\n",
       "    <tr>\n",
       "      <th>8</th>\n",
       "      <td>KEP. BANGKA BELITUNG</td>\n",
       "      <td>2022</td>\n",
       "      <td>98.17</td>\n",
       "    </tr>\n",
       "    <tr>\n",
       "      <th>9</th>\n",
       "      <td>KEP. RIAU</td>\n",
       "      <td>2022</td>\n",
       "      <td>99.02</td>\n",
       "    </tr>\n",
       "  </tbody>\n",
       "</table>\n",
       "</div>"
      ],
      "text/plain": [
       "                   prov  tahun melek_huruf_diatas15\n",
       "0                  ACEH   2022                98.25\n",
       "1        SUMATERA UTARA   2022                99.11\n",
       "2        SUMATERA BARAT   2022                99.29\n",
       "3                  RIAU   2022                99.18\n",
       "4                 JAMBI   2022                 98.1\n",
       "5      SUMATERA SELATAN   2022                98.65\n",
       "6              BENGKULU   2022                 97.8\n",
       "7               LAMPUNG   2022                97.25\n",
       "8  KEP. BANGKA BELITUNG   2022                98.17\n",
       "9             KEP. RIAU   2022                99.02"
      ]
     },
     "execution_count": 563,
     "metadata": {},
     "output_type": "execute_result"
    }
   ],
   "source": [
    "#Dataframe ini digunakan karena akan berpengaruh terhadap data rata-rata lama sekolah\n",
    "df1 = pd.read_csv(\"D:\\SEMESTER 3\\DATA MINING\\melek_huruf_diatas15.csv\")\n",
    "df1.head(10)"
   ]
  },
  {
   "cell_type": "code",
   "execution_count": 564,
   "id": "621911bd",
   "metadata": {},
   "outputs": [
    {
     "data": {
      "text/html": [
       "<div>\n",
       "<style scoped>\n",
       "    .dataframe tbody tr th:only-of-type {\n",
       "        vertical-align: middle;\n",
       "    }\n",
       "\n",
       "    .dataframe tbody tr th {\n",
       "        vertical-align: top;\n",
       "    }\n",
       "\n",
       "    .dataframe thead th {\n",
       "        text-align: right;\n",
       "    }\n",
       "</style>\n",
       "<table border=\"1\" class=\"dataframe\">\n",
       "  <thead>\n",
       "    <tr style=\"text-align: right;\">\n",
       "      <th></th>\n",
       "      <th>tahun</th>\n",
       "      <th>pct_tdk_cukup_pangan</th>\n",
       "      <th>prov</th>\n",
       "    </tr>\n",
       "  </thead>\n",
       "  <tbody>\n",
       "    <tr>\n",
       "      <th>0</th>\n",
       "      <td>2021</td>\n",
       "      <td>6.90</td>\n",
       "      <td>ACEH</td>\n",
       "    </tr>\n",
       "    <tr>\n",
       "      <th>1</th>\n",
       "      <td>2021</td>\n",
       "      <td>6.33</td>\n",
       "      <td>SUMATERA UTARA</td>\n",
       "    </tr>\n",
       "    <tr>\n",
       "      <th>2</th>\n",
       "      <td>2021</td>\n",
       "      <td>6.02</td>\n",
       "      <td>SUMATERA BARAT</td>\n",
       "    </tr>\n",
       "    <tr>\n",
       "      <th>3</th>\n",
       "      <td>2021</td>\n",
       "      <td>10.61</td>\n",
       "      <td>RIAU</td>\n",
       "    </tr>\n",
       "    <tr>\n",
       "      <th>4</th>\n",
       "      <td>2021</td>\n",
       "      <td>9.25</td>\n",
       "      <td>JAMBI</td>\n",
       "    </tr>\n",
       "    <tr>\n",
       "      <th>5</th>\n",
       "      <td>2021</td>\n",
       "      <td>6.82</td>\n",
       "      <td>SUMATERA SELATAN</td>\n",
       "    </tr>\n",
       "    <tr>\n",
       "      <th>6</th>\n",
       "      <td>2021</td>\n",
       "      <td>8.64</td>\n",
       "      <td>BENGKULU</td>\n",
       "    </tr>\n",
       "    <tr>\n",
       "      <th>7</th>\n",
       "      <td>2021</td>\n",
       "      <td>10.25</td>\n",
       "      <td>LAMPUNG</td>\n",
       "    </tr>\n",
       "    <tr>\n",
       "      <th>8</th>\n",
       "      <td>2021</td>\n",
       "      <td>11.05</td>\n",
       "      <td>KEP. BANGKA BELITUNG</td>\n",
       "    </tr>\n",
       "    <tr>\n",
       "      <th>9</th>\n",
       "      <td>2021</td>\n",
       "      <td>7.71</td>\n",
       "      <td>KEP. RIAU</td>\n",
       "    </tr>\n",
       "  </tbody>\n",
       "</table>\n",
       "</div>"
      ],
      "text/plain": [
       "   tahun  pct_tdk_cukup_pangan                  prov\n",
       "0   2021                  6.90                  ACEH\n",
       "1   2021                  6.33        SUMATERA UTARA\n",
       "2   2021                  6.02        SUMATERA BARAT\n",
       "3   2021                 10.61                  RIAU\n",
       "4   2021                  9.25                 JAMBI\n",
       "5   2021                  6.82      SUMATERA SELATAN\n",
       "6   2021                  8.64              BENGKULU\n",
       "7   2021                 10.25               LAMPUNG\n",
       "8   2021                 11.05  KEP. BANGKA BELITUNG\n",
       "9   2021                  7.71             KEP. RIAU"
      ]
     },
     "execution_count": 564,
     "metadata": {},
     "output_type": "execute_result"
    }
   ],
   "source": [
    "# Data frame ini saya ambil untuk melihat data harapan hidup\n",
    "df2 = pd.read_csv(\"D:\\SEMESTER 3\\DATA MINING\\ketidak_cukupan_pangan_prov.csv\")\n",
    "df2.head(10)"
   ]
  },
  {
   "cell_type": "code",
   "execution_count": 565,
   "id": "a00dd869",
   "metadata": {},
   "outputs": [
    {
     "data": {
      "text/html": [
       "<div>\n",
       "<style scoped>\n",
       "    .dataframe tbody tr th:only-of-type {\n",
       "        vertical-align: middle;\n",
       "    }\n",
       "\n",
       "    .dataframe tbody tr th {\n",
       "        vertical-align: top;\n",
       "    }\n",
       "\n",
       "    .dataframe thead th {\n",
       "        text-align: right;\n",
       "    }\n",
       "</style>\n",
       "<table border=\"1\" class=\"dataframe\">\n",
       "  <thead>\n",
       "    <tr style=\"text-align: right;\">\n",
       "      <th></th>\n",
       "      <th>tahun</th>\n",
       "      <th>pct_perempuan_managerial</th>\n",
       "      <th>prov</th>\n",
       "    </tr>\n",
       "  </thead>\n",
       "  <tbody>\n",
       "    <tr>\n",
       "      <th>0</th>\n",
       "      <td>2021</td>\n",
       "      <td>30.60</td>\n",
       "      <td>ACEH</td>\n",
       "    </tr>\n",
       "    <tr>\n",
       "      <th>1</th>\n",
       "      <td>2021</td>\n",
       "      <td>27.29</td>\n",
       "      <td>SUMATERA UTARA</td>\n",
       "    </tr>\n",
       "    <tr>\n",
       "      <th>2</th>\n",
       "      <td>2021</td>\n",
       "      <td>33.22</td>\n",
       "      <td>SUMATERA BARAT</td>\n",
       "    </tr>\n",
       "    <tr>\n",
       "      <th>3</th>\n",
       "      <td>2021</td>\n",
       "      <td>31.06</td>\n",
       "      <td>RIAU</td>\n",
       "    </tr>\n",
       "    <tr>\n",
       "      <th>4</th>\n",
       "      <td>2021</td>\n",
       "      <td>29.66</td>\n",
       "      <td>JAMBI</td>\n",
       "    </tr>\n",
       "    <tr>\n",
       "      <th>5</th>\n",
       "      <td>2021</td>\n",
       "      <td>31.15</td>\n",
       "      <td>SUMATERA SELATAN</td>\n",
       "    </tr>\n",
       "    <tr>\n",
       "      <th>6</th>\n",
       "      <td>2021</td>\n",
       "      <td>25.66</td>\n",
       "      <td>BENGKULU</td>\n",
       "    </tr>\n",
       "    <tr>\n",
       "      <th>7</th>\n",
       "      <td>2021</td>\n",
       "      <td>25.17</td>\n",
       "      <td>LAMPUNG</td>\n",
       "    </tr>\n",
       "    <tr>\n",
       "      <th>8</th>\n",
       "      <td>2021</td>\n",
       "      <td>29.39</td>\n",
       "      <td>KEP. BANGKA BELITUNG</td>\n",
       "    </tr>\n",
       "    <tr>\n",
       "      <th>9</th>\n",
       "      <td>2021</td>\n",
       "      <td>25.66</td>\n",
       "      <td>KEP. RIAU</td>\n",
       "    </tr>\n",
       "  </tbody>\n",
       "</table>\n",
       "</div>"
      ],
      "text/plain": [
       "   tahun  pct_perempuan_managerial                  prov\n",
       "0   2021                     30.60                  ACEH\n",
       "1   2021                     27.29        SUMATERA UTARA\n",
       "2   2021                     33.22        SUMATERA BARAT\n",
       "3   2021                     31.06                  RIAU\n",
       "4   2021                     29.66                 JAMBI\n",
       "5   2021                     31.15      SUMATERA SELATAN\n",
       "6   2021                     25.66              BENGKULU\n",
       "7   2021                     25.17               LAMPUNG\n",
       "8   2021                     29.39  KEP. BANGKA BELITUNG\n",
       "9   2021                     25.66             KEP. RIAU"
      ]
     },
     "execution_count": 565,
     "metadata": {},
     "output_type": "execute_result"
    }
   ],
   "source": [
    "# Data frame ini saya ambil untuk melihat data harapan hidup\n",
    "df3 = pd.read_csv(\"D:\\SEMESTER 3\\DATA MINING\\persen_perempuan_kerja_manajerial.csv\")\n",
    "df3.head(10)"
   ]
  },
  {
   "cell_type": "code",
   "execution_count": 566,
   "id": "69958374",
   "metadata": {},
   "outputs": [
    {
     "data": {
      "text/html": [
       "<div>\n",
       "<style scoped>\n",
       "    .dataframe tbody tr th:only-of-type {\n",
       "        vertical-align: middle;\n",
       "    }\n",
       "\n",
       "    .dataframe tbody tr th {\n",
       "        vertical-align: top;\n",
       "    }\n",
       "\n",
       "    .dataframe thead th {\n",
       "        text-align: right;\n",
       "    }\n",
       "</style>\n",
       "<table border=\"1\" class=\"dataframe\">\n",
       "  <thead>\n",
       "    <tr style=\"text-align: right;\">\n",
       "      <th></th>\n",
       "      <th>tahun</th>\n",
       "      <th>proporsi_kerja_informal_nonpertanian</th>\n",
       "      <th>prov</th>\n",
       "    </tr>\n",
       "  </thead>\n",
       "  <tbody>\n",
       "    <tr>\n",
       "      <th>0</th>\n",
       "      <td>2021</td>\n",
       "      <td>46.29</td>\n",
       "      <td>ACEH</td>\n",
       "    </tr>\n",
       "    <tr>\n",
       "      <th>1</th>\n",
       "      <td>2021</td>\n",
       "      <td>47.53</td>\n",
       "      <td>SUMATERA UTARA</td>\n",
       "    </tr>\n",
       "    <tr>\n",
       "      <th>2</th>\n",
       "      <td>2021</td>\n",
       "      <td>51.56</td>\n",
       "      <td>SUMATERA BARAT</td>\n",
       "    </tr>\n",
       "    <tr>\n",
       "      <th>3</th>\n",
       "      <td>2021</td>\n",
       "      <td>44.07</td>\n",
       "      <td>RIAU</td>\n",
       "    </tr>\n",
       "    <tr>\n",
       "      <th>4</th>\n",
       "      <td>2021</td>\n",
       "      <td>45.97</td>\n",
       "      <td>JAMBI</td>\n",
       "    </tr>\n",
       "    <tr>\n",
       "      <th>5</th>\n",
       "      <td>2021</td>\n",
       "      <td>48.20</td>\n",
       "      <td>SUMATERA SELATAN</td>\n",
       "    </tr>\n",
       "    <tr>\n",
       "      <th>6</th>\n",
       "      <td>2021</td>\n",
       "      <td>51.00</td>\n",
       "      <td>BENGKULU</td>\n",
       "    </tr>\n",
       "    <tr>\n",
       "      <th>7</th>\n",
       "      <td>2021</td>\n",
       "      <td>56.70</td>\n",
       "      <td>LAMPUNG</td>\n",
       "    </tr>\n",
       "    <tr>\n",
       "      <th>8</th>\n",
       "      <td>2021</td>\n",
       "      <td>43.98</td>\n",
       "      <td>KEP. BANGKA BELITUNG</td>\n",
       "    </tr>\n",
       "    <tr>\n",
       "      <th>9</th>\n",
       "      <td>2021</td>\n",
       "      <td>30.93</td>\n",
       "      <td>KEP. RIAU</td>\n",
       "    </tr>\n",
       "  </tbody>\n",
       "</table>\n",
       "</div>"
      ],
      "text/plain": [
       "   tahun  proporsi_kerja_informal_nonpertanian                  prov\n",
       "0   2021                                 46.29                  ACEH\n",
       "1   2021                                 47.53        SUMATERA UTARA\n",
       "2   2021                                 51.56        SUMATERA BARAT\n",
       "3   2021                                 44.07                  RIAU\n",
       "4   2021                                 45.97                 JAMBI\n",
       "5   2021                                 48.20      SUMATERA SELATAN\n",
       "6   2021                                 51.00              BENGKULU\n",
       "7   2021                                 56.70               LAMPUNG\n",
       "8   2021                                 43.98  KEP. BANGKA BELITUNG\n",
       "9   2021                                 30.93             KEP. RIAU"
      ]
     },
     "execution_count": 566,
     "metadata": {},
     "output_type": "execute_result"
    }
   ],
   "source": [
    "# Data frame ini saya ambil untuk melihat data harapan hidup\n",
    "df4 = pd.read_csv(\"D:\\SEMESTER 3\\DATA MINING\\proporsi_kerja_informal_nonpertanian.csv\")\n",
    "df4.head(10)"
   ]
  },
  {
   "cell_type": "code",
   "execution_count": 567,
   "id": "5751a8db",
   "metadata": {},
   "outputs": [
    {
     "data": {
      "text/html": [
       "<div>\n",
       "<style scoped>\n",
       "    .dataframe tbody tr th:only-of-type {\n",
       "        vertical-align: middle;\n",
       "    }\n",
       "\n",
       "    .dataframe tbody tr th {\n",
       "        vertical-align: top;\n",
       "    }\n",
       "\n",
       "    .dataframe thead th {\n",
       "        text-align: right;\n",
       "    }\n",
       "</style>\n",
       "<table border=\"1\" class=\"dataframe\">\n",
       "  <thead>\n",
       "    <tr style=\"text-align: right;\">\n",
       "      <th></th>\n",
       "      <th>prov</th>\n",
       "      <th>tahun</th>\n",
       "      <th>jumlah_naik_haji</th>\n",
       "    </tr>\n",
       "  </thead>\n",
       "  <tbody>\n",
       "    <tr>\n",
       "      <th>0</th>\n",
       "      <td>ACEH</td>\n",
       "      <td>2016</td>\n",
       "      <td>3135.0</td>\n",
       "    </tr>\n",
       "    <tr>\n",
       "      <th>1</th>\n",
       "      <td>SUMATERA UTARA</td>\n",
       "      <td>2016</td>\n",
       "      <td>6529.0</td>\n",
       "    </tr>\n",
       "    <tr>\n",
       "      <th>2</th>\n",
       "      <td>SUMATERA BARAT</td>\n",
       "      <td>2016</td>\n",
       "      <td>3576.0</td>\n",
       "    </tr>\n",
       "    <tr>\n",
       "      <th>3</th>\n",
       "      <td>RIAU</td>\n",
       "      <td>2016</td>\n",
       "      <td>4032.0</td>\n",
       "    </tr>\n",
       "    <tr>\n",
       "      <th>4</th>\n",
       "      <td>JAMBI</td>\n",
       "      <td>2016</td>\n",
       "      <td>2100.0</td>\n",
       "    </tr>\n",
       "    <tr>\n",
       "      <th>5</th>\n",
       "      <td>SUMATERA SELATAN</td>\n",
       "      <td>2016</td>\n",
       "      <td>5082.0</td>\n",
       "    </tr>\n",
       "    <tr>\n",
       "      <th>6</th>\n",
       "      <td>BENGKULU</td>\n",
       "      <td>2016</td>\n",
       "      <td>1283.0</td>\n",
       "    </tr>\n",
       "    <tr>\n",
       "      <th>7</th>\n",
       "      <td>LAMPUNG</td>\n",
       "      <td>2016</td>\n",
       "      <td>5010.0</td>\n",
       "    </tr>\n",
       "    <tr>\n",
       "      <th>8</th>\n",
       "      <td>KEP. BANGKA BELITUNG</td>\n",
       "      <td>2016</td>\n",
       "      <td>729.0</td>\n",
       "    </tr>\n",
       "    <tr>\n",
       "      <th>9</th>\n",
       "      <td>KEP. RIAU</td>\n",
       "      <td>2016</td>\n",
       "      <td>793.0</td>\n",
       "    </tr>\n",
       "  </tbody>\n",
       "</table>\n",
       "</div>"
      ],
      "text/plain": [
       "                   prov  tahun  jumlah_naik_haji\n",
       "0                  ACEH   2016            3135.0\n",
       "1        SUMATERA UTARA   2016            6529.0\n",
       "2        SUMATERA BARAT   2016            3576.0\n",
       "3                  RIAU   2016            4032.0\n",
       "4                 JAMBI   2016            2100.0\n",
       "5      SUMATERA SELATAN   2016            5082.0\n",
       "6              BENGKULU   2016            1283.0\n",
       "7               LAMPUNG   2016            5010.0\n",
       "8  KEP. BANGKA BELITUNG   2016             729.0\n",
       "9             KEP. RIAU   2016             793.0"
      ]
     },
     "execution_count": 567,
     "metadata": {},
     "output_type": "execute_result"
    }
   ],
   "source": [
    "# Data frame ini saya ambil untuk melihat data pengeluaran perkapita\n",
    "df5 = pd.read_csv(\"D:\\SEMESTER 3\\DATA MINING\\jumlah_naik_haji.csv\")\n",
    "df5.head(10)"
   ]
  },
  {
   "cell_type": "code",
   "execution_count": 568,
   "id": "a509427f",
   "metadata": {},
   "outputs": [
    {
     "data": {
      "text/html": [
       "<div>\n",
       "<style scoped>\n",
       "    .dataframe tbody tr th:only-of-type {\n",
       "        vertical-align: middle;\n",
       "    }\n",
       "\n",
       "    .dataframe tbody tr th {\n",
       "        vertical-align: top;\n",
       "    }\n",
       "\n",
       "    .dataframe thead th {\n",
       "        text-align: right;\n",
       "    }\n",
       "</style>\n",
       "<table border=\"1\" class=\"dataframe\">\n",
       "  <thead>\n",
       "    <tr style=\"text-align: right;\">\n",
       "      <th></th>\n",
       "      <th>tahun</th>\n",
       "      <th>persen_rumah_menyewa</th>\n",
       "      <th>prov</th>\n",
       "    </tr>\n",
       "  </thead>\n",
       "  <tbody>\n",
       "    <tr>\n",
       "      <th>0</th>\n",
       "      <td>2021</td>\n",
       "      <td>6.86</td>\n",
       "      <td>ACEH</td>\n",
       "    </tr>\n",
       "    <tr>\n",
       "      <th>1</th>\n",
       "      <td>2021</td>\n",
       "      <td>14.13</td>\n",
       "      <td>SUMATERA UTARA</td>\n",
       "    </tr>\n",
       "    <tr>\n",
       "      <th>2</th>\n",
       "      <td>2021</td>\n",
       "      <td>11.37</td>\n",
       "      <td>SUMATERA BARAT</td>\n",
       "    </tr>\n",
       "    <tr>\n",
       "      <th>3</th>\n",
       "      <td>2021</td>\n",
       "      <td>11.82</td>\n",
       "      <td>RIAU</td>\n",
       "    </tr>\n",
       "    <tr>\n",
       "      <th>4</th>\n",
       "      <td>2021</td>\n",
       "      <td>5.95</td>\n",
       "      <td>JAMBI</td>\n",
       "    </tr>\n",
       "    <tr>\n",
       "      <th>5</th>\n",
       "      <td>2021</td>\n",
       "      <td>6.18</td>\n",
       "      <td>SUMATERA SELATAN</td>\n",
       "    </tr>\n",
       "    <tr>\n",
       "      <th>6</th>\n",
       "      <td>2021</td>\n",
       "      <td>7.03</td>\n",
       "      <td>BENGKULU</td>\n",
       "    </tr>\n",
       "    <tr>\n",
       "      <th>7</th>\n",
       "      <td>2021</td>\n",
       "      <td>3.92</td>\n",
       "      <td>LAMPUNG</td>\n",
       "    </tr>\n",
       "    <tr>\n",
       "      <th>8</th>\n",
       "      <td>2021</td>\n",
       "      <td>7.31</td>\n",
       "      <td>KEP. BANGKA BELITUNG</td>\n",
       "    </tr>\n",
       "    <tr>\n",
       "      <th>9</th>\n",
       "      <td>2021</td>\n",
       "      <td>25.95</td>\n",
       "      <td>KEP. RIAU</td>\n",
       "    </tr>\n",
       "  </tbody>\n",
       "</table>\n",
       "</div>"
      ],
      "text/plain": [
       "   tahun  persen_rumah_menyewa                  prov\n",
       "0   2021                  6.86                  ACEH\n",
       "1   2021                 14.13        SUMATERA UTARA\n",
       "2   2021                 11.37        SUMATERA BARAT\n",
       "3   2021                 11.82                  RIAU\n",
       "4   2021                  5.95                 JAMBI\n",
       "5   2021                  6.18      SUMATERA SELATAN\n",
       "6   2021                  7.03              BENGKULU\n",
       "7   2021                  3.92               LAMPUNG\n",
       "8   2021                  7.31  KEP. BANGKA BELITUNG\n",
       "9   2021                 25.95             KEP. RIAU"
      ]
     },
     "execution_count": 568,
     "metadata": {},
     "output_type": "execute_result"
    }
   ],
   "source": [
    "# Data frame ini saya ambil untuk melihat data pengeluaran perkapita\n",
    "df6 = pd.read_csv(\"D:\\SEMESTER 3\\DATA MINING\\persen_rumah_menyewa.csv\")\n",
    "df6.head(10)"
   ]
  },
  {
   "cell_type": "code",
   "execution_count": 569,
   "id": "a75a89f2",
   "metadata": {},
   "outputs": [
    {
     "data": {
      "text/html": [
       "<div>\n",
       "<style scoped>\n",
       "    .dataframe tbody tr th:only-of-type {\n",
       "        vertical-align: middle;\n",
       "    }\n",
       "\n",
       "    .dataframe tbody tr th {\n",
       "        vertical-align: top;\n",
       "    }\n",
       "\n",
       "    .dataframe thead th {\n",
       "        text-align: right;\n",
       "    }\n",
       "</style>\n",
       "<table border=\"1\" class=\"dataframe\">\n",
       "  <thead>\n",
       "    <tr style=\"text-align: right;\">\n",
       "      <th></th>\n",
       "      <th>prov</th>\n",
       "      <th>tahun</th>\n",
       "      <th>kategori_pmi</th>\n",
       "    </tr>\n",
       "  </thead>\n",
       "  <tbody>\n",
       "    <tr>\n",
       "      <th>0</th>\n",
       "      <td>ACEH</td>\n",
       "      <td>2022</td>\n",
       "      <td>TINGGI</td>\n",
       "    </tr>\n",
       "    <tr>\n",
       "      <th>1</th>\n",
       "      <td>SUMATERA UTARA</td>\n",
       "      <td>2022</td>\n",
       "      <td>TINGGI</td>\n",
       "    </tr>\n",
       "    <tr>\n",
       "      <th>2</th>\n",
       "      <td>SUMATERA BARAT</td>\n",
       "      <td>2022</td>\n",
       "      <td>TINGGI</td>\n",
       "    </tr>\n",
       "    <tr>\n",
       "      <th>3</th>\n",
       "      <td>RIAU</td>\n",
       "      <td>2022</td>\n",
       "      <td>TINGGI</td>\n",
       "    </tr>\n",
       "    <tr>\n",
       "      <th>4</th>\n",
       "      <td>JAMBI</td>\n",
       "      <td>2022</td>\n",
       "      <td>TINGGI</td>\n",
       "    </tr>\n",
       "    <tr>\n",
       "      <th>5</th>\n",
       "      <td>SUMATERA SELATAN</td>\n",
       "      <td>2022</td>\n",
       "      <td>TINGGI</td>\n",
       "    </tr>\n",
       "    <tr>\n",
       "      <th>6</th>\n",
       "      <td>BENGKULU</td>\n",
       "      <td>2022</td>\n",
       "      <td>TINGGI</td>\n",
       "    </tr>\n",
       "    <tr>\n",
       "      <th>7</th>\n",
       "      <td>LAMPUNG</td>\n",
       "      <td>2022</td>\n",
       "      <td>TINGGI</td>\n",
       "    </tr>\n",
       "    <tr>\n",
       "      <th>8</th>\n",
       "      <td>KEP. BANGKA BELITUNG</td>\n",
       "      <td>2022</td>\n",
       "      <td>TINGGI</td>\n",
       "    </tr>\n",
       "    <tr>\n",
       "      <th>9</th>\n",
       "      <td>KEP. RIAU</td>\n",
       "      <td>2022</td>\n",
       "      <td>TINGGI</td>\n",
       "    </tr>\n",
       "  </tbody>\n",
       "</table>\n",
       "</div>"
      ],
      "text/plain": [
       "                   prov  tahun kategori_pmi\n",
       "0                  ACEH   2022       TINGGI\n",
       "1        SUMATERA UTARA   2022       TINGGI\n",
       "2        SUMATERA BARAT   2022       TINGGI\n",
       "3                  RIAU   2022       TINGGI\n",
       "4                 JAMBI   2022       TINGGI\n",
       "5      SUMATERA SELATAN   2022       TINGGI\n",
       "6              BENGKULU   2022       TINGGI\n",
       "7               LAMPUNG   2022       TINGGI\n",
       "8  KEP. BANGKA BELITUNG   2022       TINGGI\n",
       "9             KEP. RIAU   2022       TINGGI"
      ]
     },
     "execution_count": 569,
     "metadata": {},
     "output_type": "execute_result"
    }
   ],
   "source": [
    "# Data frame ini saya ambil untuk melihat data pengeluaran perkapita\n",
    "df7 = pd.read_csv(\"D:\\SEMESTER 3\\DATA MINING\\pmi.csv\")\n",
    "df7.head(10)"
   ]
  },
  {
   "cell_type": "markdown",
   "id": "93de54aa",
   "metadata": {},
   "source": [
    "### Melihat type data dan mengecek nilai null pada df1"
   ]
  },
  {
   "cell_type": "code",
   "execution_count": 570,
   "id": "82aa2cf6",
   "metadata": {},
   "outputs": [
    {
     "name": "stdout",
     "output_type": "stream",
     "text": [
      "<class 'pandas.core.frame.DataFrame'>\n",
      "RangeIndex: 315 entries, 0 to 314\n",
      "Data columns (total 3 columns):\n",
      " #   Column                Non-Null Count  Dtype \n",
      "---  ------                --------------  ----- \n",
      " 0   prov                  315 non-null    object\n",
      " 1   tahun                 315 non-null    int64 \n",
      " 2   melek_huruf_diatas15  315 non-null    object\n",
      "dtypes: int64(1), object(2)\n",
      "memory usage: 7.5+ KB\n"
     ]
    }
   ],
   "source": [
    "df1.info()"
   ]
  },
  {
   "cell_type": "code",
   "execution_count": 571,
   "id": "f951af4e",
   "metadata": {},
   "outputs": [
    {
     "data": {
      "text/plain": [
       "prov                    0\n",
       "tahun                   0\n",
       "melek_huruf_diatas15    0\n",
       "dtype: int64"
      ]
     },
     "execution_count": 571,
     "metadata": {},
     "output_type": "execute_result"
    }
   ],
   "source": [
    "df1.isnull().sum()"
   ]
  },
  {
   "cell_type": "markdown",
   "id": "9b39b062",
   "metadata": {},
   "source": [
    "### Melihat type data dan mengecek nilai null pada df2"
   ]
  },
  {
   "cell_type": "code",
   "execution_count": 572,
   "id": "888bf14d",
   "metadata": {},
   "outputs": [
    {
     "name": "stdout",
     "output_type": "stream",
     "text": [
      "<class 'pandas.core.frame.DataFrame'>\n",
      "RangeIndex: 175 entries, 0 to 174\n",
      "Data columns (total 3 columns):\n",
      " #   Column                Non-Null Count  Dtype  \n",
      "---  ------                --------------  -----  \n",
      " 0   tahun                 175 non-null    int64  \n",
      " 1   pct_tdk_cukup_pangan  175 non-null    float64\n",
      " 2   prov                  175 non-null    object \n",
      "dtypes: float64(1), int64(1), object(1)\n",
      "memory usage: 4.2+ KB\n"
     ]
    }
   ],
   "source": [
    "df2.info()"
   ]
  },
  {
   "cell_type": "code",
   "execution_count": 573,
   "id": "e38b44b3",
   "metadata": {},
   "outputs": [
    {
     "data": {
      "text/plain": [
       "tahun                   0\n",
       "pct_tdk_cukup_pangan    0\n",
       "prov                    0\n",
       "dtype: int64"
      ]
     },
     "execution_count": 573,
     "metadata": {},
     "output_type": "execute_result"
    }
   ],
   "source": [
    "df2.isnull().sum()"
   ]
  },
  {
   "cell_type": "markdown",
   "id": "3836c9a3",
   "metadata": {},
   "source": [
    "### Melihat type data dan mengecek nilai null pada df3"
   ]
  },
  {
   "cell_type": "code",
   "execution_count": 574,
   "id": "259bf286",
   "metadata": {},
   "outputs": [
    {
     "name": "stdout",
     "output_type": "stream",
     "text": [
      "<class 'pandas.core.frame.DataFrame'>\n",
      "RangeIndex: 245 entries, 0 to 244\n",
      "Data columns (total 3 columns):\n",
      " #   Column                    Non-Null Count  Dtype  \n",
      "---  ------                    --------------  -----  \n",
      " 0   tahun                     245 non-null    int64  \n",
      " 1   pct_perempuan_managerial  245 non-null    float64\n",
      " 2   prov                      245 non-null    object \n",
      "dtypes: float64(1), int64(1), object(1)\n",
      "memory usage: 5.9+ KB\n"
     ]
    }
   ],
   "source": [
    "df3.info()"
   ]
  },
  {
   "cell_type": "code",
   "execution_count": 575,
   "id": "daf312d0",
   "metadata": {},
   "outputs": [
    {
     "data": {
      "text/plain": [
       "tahun                       0\n",
       "pct_perempuan_managerial    0\n",
       "prov                        0\n",
       "dtype: int64"
      ]
     },
     "execution_count": 575,
     "metadata": {},
     "output_type": "execute_result"
    }
   ],
   "source": [
    "df3.isnull().sum()"
   ]
  },
  {
   "cell_type": "markdown",
   "id": "335da59e",
   "metadata": {},
   "source": [
    "### Melihat type data dan mengecek nilai null pada df4"
   ]
  },
  {
   "cell_type": "code",
   "execution_count": 576,
   "id": "1729e222",
   "metadata": {},
   "outputs": [
    {
     "name": "stdout",
     "output_type": "stream",
     "text": [
      "<class 'pandas.core.frame.DataFrame'>\n",
      "RangeIndex: 245 entries, 0 to 244\n",
      "Data columns (total 3 columns):\n",
      " #   Column                                Non-Null Count  Dtype  \n",
      "---  ------                                --------------  -----  \n",
      " 0   tahun                                 245 non-null    int64  \n",
      " 1   proporsi_kerja_informal_nonpertanian  245 non-null    float64\n",
      " 2   prov                                  245 non-null    object \n",
      "dtypes: float64(1), int64(1), object(1)\n",
      "memory usage: 5.9+ KB\n"
     ]
    }
   ],
   "source": [
    "df4.info()"
   ]
  },
  {
   "cell_type": "code",
   "execution_count": 577,
   "id": "895a4c2e",
   "metadata": {},
   "outputs": [
    {
     "data": {
      "text/plain": [
       "tahun                                   0\n",
       "proporsi_kerja_informal_nonpertanian    0\n",
       "prov                                    0\n",
       "dtype: int64"
      ]
     },
     "execution_count": 577,
     "metadata": {},
     "output_type": "execute_result"
    }
   ],
   "source": [
    "df4.isnull().sum()"
   ]
  },
  {
   "cell_type": "markdown",
   "id": "6bdb849a",
   "metadata": {},
   "source": [
    "### Melihat type data dan mengecek nilai null pada df5"
   ]
  },
  {
   "cell_type": "code",
   "execution_count": 578,
   "id": "e5645a13",
   "metadata": {},
   "outputs": [
    {
     "name": "stdout",
     "output_type": "stream",
     "text": [
      "<class 'pandas.core.frame.DataFrame'>\n",
      "RangeIndex: 245 entries, 0 to 244\n",
      "Data columns (total 3 columns):\n",
      " #   Column            Non-Null Count  Dtype  \n",
      "---  ------            --------------  -----  \n",
      " 0   prov              245 non-null    object \n",
      " 1   tahun             245 non-null    int64  \n",
      " 2   jumlah_naik_haji  238 non-null    float64\n",
      "dtypes: float64(1), int64(1), object(1)\n",
      "memory usage: 5.9+ KB\n"
     ]
    }
   ],
   "source": [
    "df5.info()"
   ]
  },
  {
   "cell_type": "code",
   "execution_count": 579,
   "id": "11d5dfa6",
   "metadata": {},
   "outputs": [
    {
     "data": {
      "text/plain": [
       "prov                0\n",
       "tahun               0\n",
       "jumlah_naik_haji    7\n",
       "dtype: int64"
      ]
     },
     "execution_count": 579,
     "metadata": {},
     "output_type": "execute_result"
    }
   ],
   "source": [
    "df5.isnull().sum()"
   ]
  },
  {
   "cell_type": "markdown",
   "id": "2ef8bd9f",
   "metadata": {},
   "source": [
    "### Mengisi data null pada tabek jumlah_naik_haji"
   ]
  },
  {
   "cell_type": "code",
   "execution_count": 580,
   "id": "169188c4",
   "metadata": {},
   "outputs": [],
   "source": [
    "df5['jumlah_naik_haji'].fillna(0, inplace = True)"
   ]
  },
  {
   "cell_type": "markdown",
   "id": "23bf1cc8",
   "metadata": {},
   "source": [
    "### Melihat type data dan mengecek nilai null pada df6"
   ]
  },
  {
   "cell_type": "code",
   "execution_count": 581,
   "id": "d5a5e13d",
   "metadata": {},
   "outputs": [
    {
     "name": "stdout",
     "output_type": "stream",
     "text": [
      "<class 'pandas.core.frame.DataFrame'>\n",
      "RangeIndex: 245 entries, 0 to 244\n",
      "Data columns (total 3 columns):\n",
      " #   Column                Non-Null Count  Dtype  \n",
      "---  ------                --------------  -----  \n",
      " 0   tahun                 245 non-null    int64  \n",
      " 1   persen_rumah_menyewa  245 non-null    float64\n",
      " 2   prov                  245 non-null    object \n",
      "dtypes: float64(1), int64(1), object(1)\n",
      "memory usage: 5.9+ KB\n"
     ]
    }
   ],
   "source": [
    "df6.info()"
   ]
  },
  {
   "cell_type": "code",
   "execution_count": 582,
   "id": "0477d1ab",
   "metadata": {},
   "outputs": [
    {
     "data": {
      "text/plain": [
       "tahun                   0\n",
       "persen_rumah_menyewa    0\n",
       "prov                    0\n",
       "dtype: int64"
      ]
     },
     "execution_count": 582,
     "metadata": {},
     "output_type": "execute_result"
    }
   ],
   "source": [
    "df6.isnull().sum()"
   ]
  },
  {
   "cell_type": "markdown",
   "id": "821b8d34",
   "metadata": {},
   "source": [
    "### Melihat type data dan mengecek nilai null pada df7"
   ]
  },
  {
   "cell_type": "code",
   "execution_count": 583,
   "id": "de11021c",
   "metadata": {},
   "outputs": [
    {
     "name": "stdout",
     "output_type": "stream",
     "text": [
      "<class 'pandas.core.frame.DataFrame'>\n",
      "RangeIndex: 442 entries, 0 to 441\n",
      "Data columns (total 3 columns):\n",
      " #   Column        Non-Null Count  Dtype \n",
      "---  ------        --------------  ----- \n",
      " 0   prov          442 non-null    object\n",
      " 1   tahun         442 non-null    int64 \n",
      " 2   kategori_pmi  442 non-null    object\n",
      "dtypes: int64(1), object(2)\n",
      "memory usage: 10.5+ KB\n"
     ]
    }
   ],
   "source": [
    "df7.info()"
   ]
  },
  {
   "cell_type": "code",
   "execution_count": 584,
   "id": "72e236f6",
   "metadata": {},
   "outputs": [
    {
     "data": {
      "text/plain": [
       "prov            0\n",
       "tahun           0\n",
       "kategori_pmi    0\n",
       "dtype: int64"
      ]
     },
     "execution_count": 584,
     "metadata": {},
     "output_type": "execute_result"
    }
   ],
   "source": [
    "df7.isnull().sum()"
   ]
  },
  {
   "cell_type": "markdown",
   "id": "f9613809",
   "metadata": {},
   "source": [
    "## Menggabungkan tiap dataframe ke satu dataframe"
   ]
  },
  {
   "cell_type": "code",
   "execution_count": 585,
   "id": "aab504ac",
   "metadata": {},
   "outputs": [
    {
     "data": {
      "text/html": [
       "<div>\n",
       "<style scoped>\n",
       "    .dataframe tbody tr th:only-of-type {\n",
       "        vertical-align: middle;\n",
       "    }\n",
       "\n",
       "    .dataframe tbody tr th {\n",
       "        vertical-align: top;\n",
       "    }\n",
       "\n",
       "    .dataframe thead th {\n",
       "        text-align: right;\n",
       "    }\n",
       "</style>\n",
       "<table border=\"1\" class=\"dataframe\">\n",
       "  <thead>\n",
       "    <tr style=\"text-align: right;\">\n",
       "      <th></th>\n",
       "      <th>tahun</th>\n",
       "      <th>persen_rumah_menyewa</th>\n",
       "      <th>prov</th>\n",
       "      <th>tahun_x</th>\n",
       "      <th>jumlah_naik_haji</th>\n",
       "      <th>tahun_y</th>\n",
       "      <th>proporsi_kerja_informal_nonpertanian</th>\n",
       "      <th>pct_perempuan_managerial</th>\n",
       "      <th>pct_tdk_cukup_pangan</th>\n",
       "      <th>melek_huruf_diatas15</th>\n",
       "      <th>kategori_pmi</th>\n",
       "    </tr>\n",
       "  </thead>\n",
       "  <tbody>\n",
       "    <tr>\n",
       "      <th>0</th>\n",
       "      <td>2021</td>\n",
       "      <td>6.86</td>\n",
       "      <td>ACEH</td>\n",
       "      <td>2016</td>\n",
       "      <td>3135.0</td>\n",
       "      <td>2021</td>\n",
       "      <td>46.29</td>\n",
       "      <td>30.60</td>\n",
       "      <td>6.90</td>\n",
       "      <td>98.24</td>\n",
       "      <td>TINGGI</td>\n",
       "    </tr>\n",
       "    <tr>\n",
       "      <th>1</th>\n",
       "      <td>2021</td>\n",
       "      <td>6.86</td>\n",
       "      <td>ACEH</td>\n",
       "      <td>2016</td>\n",
       "      <td>3135.0</td>\n",
       "      <td>2020</td>\n",
       "      <td>47.59</td>\n",
       "      <td>32.61</td>\n",
       "      <td>8.58</td>\n",
       "      <td>98.25</td>\n",
       "      <td>TINGGI</td>\n",
       "    </tr>\n",
       "    <tr>\n",
       "      <th>2</th>\n",
       "      <td>2021</td>\n",
       "      <td>6.86</td>\n",
       "      <td>ACEH</td>\n",
       "      <td>2016</td>\n",
       "      <td>3135.0</td>\n",
       "      <td>2019</td>\n",
       "      <td>41.31</td>\n",
       "      <td>26.13</td>\n",
       "      <td>9.41</td>\n",
       "      <td>98.21</td>\n",
       "      <td>TINGGI</td>\n",
       "    </tr>\n",
       "    <tr>\n",
       "      <th>3</th>\n",
       "      <td>2021</td>\n",
       "      <td>6.86</td>\n",
       "      <td>ACEH</td>\n",
       "      <td>2016</td>\n",
       "      <td>3135.0</td>\n",
       "      <td>2018</td>\n",
       "      <td>43.06</td>\n",
       "      <td>20.56</td>\n",
       "      <td>8.68</td>\n",
       "      <td>98.03</td>\n",
       "      <td>TINGGI</td>\n",
       "    </tr>\n",
       "    <tr>\n",
       "      <th>4</th>\n",
       "      <td>2021</td>\n",
       "      <td>6.86</td>\n",
       "      <td>ACEH</td>\n",
       "      <td>2016</td>\n",
       "      <td>3135.0</td>\n",
       "      <td>2017</td>\n",
       "      <td>42.27</td>\n",
       "      <td>20.80</td>\n",
       "      <td>8.40</td>\n",
       "      <td>97.94</td>\n",
       "      <td>TINGGI</td>\n",
       "    </tr>\n",
       "    <tr>\n",
       "      <th>5</th>\n",
       "      <td>2021</td>\n",
       "      <td>6.86</td>\n",
       "      <td>ACEH</td>\n",
       "      <td>2016</td>\n",
       "      <td>3135.0</td>\n",
       "      <td>2016</td>\n",
       "      <td>41.64</td>\n",
       "      <td>18.18</td>\n",
       "      <td>NaN</td>\n",
       "      <td>NaN</td>\n",
       "      <td>NaN</td>\n",
       "    </tr>\n",
       "    <tr>\n",
       "      <th>6</th>\n",
       "      <td>2021</td>\n",
       "      <td>6.86</td>\n",
       "      <td>ACEH</td>\n",
       "      <td>2016</td>\n",
       "      <td>3135.0</td>\n",
       "      <td>2015</td>\n",
       "      <td>40.51</td>\n",
       "      <td>15.47</td>\n",
       "      <td>NaN</td>\n",
       "      <td>NaN</td>\n",
       "      <td>NaN</td>\n",
       "    </tr>\n",
       "    <tr>\n",
       "      <th>7</th>\n",
       "      <td>2021</td>\n",
       "      <td>6.86</td>\n",
       "      <td>ACEH</td>\n",
       "      <td>2015</td>\n",
       "      <td>3145.0</td>\n",
       "      <td>2021</td>\n",
       "      <td>46.29</td>\n",
       "      <td>30.60</td>\n",
       "      <td>6.90</td>\n",
       "      <td>98.24</td>\n",
       "      <td>TINGGI</td>\n",
       "    </tr>\n",
       "    <tr>\n",
       "      <th>8</th>\n",
       "      <td>2021</td>\n",
       "      <td>6.86</td>\n",
       "      <td>ACEH</td>\n",
       "      <td>2015</td>\n",
       "      <td>3145.0</td>\n",
       "      <td>2020</td>\n",
       "      <td>47.59</td>\n",
       "      <td>32.61</td>\n",
       "      <td>8.58</td>\n",
       "      <td>98.25</td>\n",
       "      <td>TINGGI</td>\n",
       "    </tr>\n",
       "    <tr>\n",
       "      <th>9</th>\n",
       "      <td>2021</td>\n",
       "      <td>6.86</td>\n",
       "      <td>ACEH</td>\n",
       "      <td>2015</td>\n",
       "      <td>3145.0</td>\n",
       "      <td>2019</td>\n",
       "      <td>41.31</td>\n",
       "      <td>26.13</td>\n",
       "      <td>9.41</td>\n",
       "      <td>98.21</td>\n",
       "      <td>TINGGI</td>\n",
       "    </tr>\n",
       "  </tbody>\n",
       "</table>\n",
       "</div>"
      ],
      "text/plain": [
       "   tahun  persen_rumah_menyewa  prov  tahun_x  jumlah_naik_haji  tahun_y  \\\n",
       "0   2021                  6.86  ACEH     2016            3135.0     2021   \n",
       "1   2021                  6.86  ACEH     2016            3135.0     2020   \n",
       "2   2021                  6.86  ACEH     2016            3135.0     2019   \n",
       "3   2021                  6.86  ACEH     2016            3135.0     2018   \n",
       "4   2021                  6.86  ACEH     2016            3135.0     2017   \n",
       "5   2021                  6.86  ACEH     2016            3135.0     2016   \n",
       "6   2021                  6.86  ACEH     2016            3135.0     2015   \n",
       "7   2021                  6.86  ACEH     2015            3145.0     2021   \n",
       "8   2021                  6.86  ACEH     2015            3145.0     2020   \n",
       "9   2021                  6.86  ACEH     2015            3145.0     2019   \n",
       "\n",
       "   proporsi_kerja_informal_nonpertanian  pct_perempuan_managerial  \\\n",
       "0                                 46.29                     30.60   \n",
       "1                                 47.59                     32.61   \n",
       "2                                 41.31                     26.13   \n",
       "3                                 43.06                     20.56   \n",
       "4                                 42.27                     20.80   \n",
       "5                                 41.64                     18.18   \n",
       "6                                 40.51                     15.47   \n",
       "7                                 46.29                     30.60   \n",
       "8                                 47.59                     32.61   \n",
       "9                                 41.31                     26.13   \n",
       "\n",
       "   pct_tdk_cukup_pangan melek_huruf_diatas15 kategori_pmi  \n",
       "0                  6.90                98.24       TINGGI  \n",
       "1                  8.58                98.25       TINGGI  \n",
       "2                  9.41                98.21       TINGGI  \n",
       "3                  8.68                98.03       TINGGI  \n",
       "4                  8.40                97.94       TINGGI  \n",
       "5                   NaN                  NaN          NaN  \n",
       "6                   NaN                  NaN          NaN  \n",
       "7                  6.90                98.24       TINGGI  \n",
       "8                  8.58                98.25       TINGGI  \n",
       "9                  9.41                98.21       TINGGI  "
      ]
     },
     "execution_count": 585,
     "metadata": {},
     "output_type": "execute_result"
    }
   ],
   "source": [
    "df_gabungan = df7\n",
    "# df_gabungan.set_index('prov').join(df1.set_index('prov'), how = 'outer')\n",
    "df_gabungan = pd.merge(df1, df_gabungan, how=\"left\", on=(\"prov\", \"tahun\"))\n",
    "df_gabungan = pd.merge(df2, df_gabungan, how=\"left\", on=(\"tahun\", \"prov\"))\n",
    "df_gabungan = pd.merge(df3, df_gabungan, how=\"left\", on=(\"tahun\", \"prov\"))\n",
    "df_gabungan = pd.merge(df4, df_gabungan, how=\"left\", on=(\"tahun\", \"prov\"))\n",
    "df_gabungan = pd.merge(df5, df_gabungan, how=\"left\", on=(\"prov\"))\n",
    "df_gabungan = pd.merge(df6, df_gabungan, how=\"left\", on=(\"prov\"))\n",
    "df_gabungan.head(10)"
   ]
  },
  {
   "cell_type": "markdown",
   "id": "f104d1d4",
   "metadata": {},
   "source": [
    "## Melihat data yang null pada df_gabungan"
   ]
  },
  {
   "cell_type": "code",
   "execution_count": 586,
   "id": "a69d6248",
   "metadata": {},
   "outputs": [
    {
     "data": {
      "text/plain": [
       "tahun                                      0\n",
       "persen_rumah_menyewa                       0\n",
       "prov                                       0\n",
       "tahun_x                                    0\n",
       "jumlah_naik_haji                           0\n",
       "tahun_y                                    0\n",
       "proporsi_kerja_informal_nonpertanian       0\n",
       "pct_perempuan_managerial                   0\n",
       "pct_tdk_cukup_pangan                    3430\n",
       "melek_huruf_diatas15                    3430\n",
       "kategori_pmi                            3675\n",
       "dtype: int64"
      ]
     },
     "execution_count": 586,
     "metadata": {},
     "output_type": "execute_result"
    }
   ],
   "source": [
    "df_gabungan.isnull().sum()"
   ]
  },
  {
   "cell_type": "markdown",
   "id": "b0d99b8f",
   "metadata": {},
   "source": [
    "## Mengubah nilai kategori_pmi ke angka"
   ]
  },
  {
   "cell_type": "code",
   "execution_count": 587,
   "id": "7374fbd2",
   "metadata": {},
   "outputs": [],
   "source": [
    "df_gabungan.kategori_pmi = np.where(df_gabungan.kategori_pmi == 'SANGAT TINGGI', 5 , df_gabungan.kategori_pmi)\n",
    "df_gabungan.kategori_pmi = np.where(df_gabungan.kategori_pmi == 'TINGGI', 4, df_gabungan.kategori_pmi)\n",
    "df_gabungan.kategori_pmi = np.where(df_gabungan.kategori_pmi == 'SEDANG',3 , df_gabungan.kategori_pmi)\n",
    "df_gabungan.kategori_pmi = np.where(df_gabungan.kategori_pmi == 'RENDAH', 2, df_gabungan.kategori_pmi)\n",
    "df_gabungan.kategori_pmi = np.where(df_gabungan.kategori_pmi == 'SANGAT RENDAH',1 , df_gabungan.kategori_pmi)"
   ]
  },
  {
   "cell_type": "markdown",
   "id": "d6957f64",
   "metadata": {},
   "source": [
    "### Mengisi nilai null dengan pada tabel-tabel yang kosong"
   ]
  },
  {
   "cell_type": "code",
   "execution_count": 588,
   "id": "42fe27d9",
   "metadata": {},
   "outputs": [],
   "source": [
    "# df_gabungan['proporsi_kerja_informal_nonpertanian'].fillna(0, inplace = True)\n",
    "\n",
    "df_gabungan['proporsi_kerja_informal_nonpertanian'].fillna(df_gabungan.groupby([\"prov\"])['proporsi_kerja_informal_nonpertanian'].transform(\"mean\"), inplace = True)\n",
    "df_gabungan['proporsi_kerja_informal_nonpertanian'] = round(df_gabungan['proporsi_kerja_informal_nonpertanian']) # membulatkan data\n",
    "\n",
    "\n",
    "df_gabungan['jumlah_naik_haji'].fillna(0, inplace = True)\n",
    "# df_gabungan['pct_perempuan_managerial'].fillna(0, inplace = True)\n",
    "\n",
    "df_gabungan['pct_perempuan_managerial'].fillna(df_gabungan.groupby([\"prov\"])['pct_perempuan_managerial'].transform(\"mean\"), inplace = True)\n",
    "df_gabungan['pct_perempuan_managerial'] = round(df_gabungan['pct_perempuan_managerial']) # membulatkan data\n",
    "\n",
    "df_gabungan['pct_tdk_cukup_pangan'].fillna(df_gabungan.groupby([\"prov\"])['pct_tdk_cukup_pangan'].transform(\"mean\"), inplace = True)\n",
    "df_gabungan['pct_tdk_cukup_pangan'] = round(df_gabungan['pct_tdk_cukup_pangan']) # membulatkan data\n",
    "\n",
    "# df_gabungan['melek_huruf_diatas15'].fillna(df_gabungan.groupby([\"tahun\"])['melek_huruf_diatas15'].transform(\"mean\"), inplace = True)\n",
    "# df_gabungan['melek_huruf_diatas15'] = round(df_gabungan['melek_huruf_diatas15']) # membulatkan data\n",
    "\n",
    "\n",
    "# df_gabungan['pct_tdk_cukup_pangan'].fillna(0, inplace = True)\n",
    "df_gabungan['melek_huruf_diatas15'].fillna(0, inplace = True)\n",
    "\n",
    "df_gabungan['kategori_pmi'].fillna(0, inplace = True)"
   ]
  },
  {
   "cell_type": "markdown",
   "id": "44edb3d4",
   "metadata": {},
   "source": [
    "## Mengubah tipe data kategori_pmi ke integer"
   ]
  },
  {
   "cell_type": "code",
   "execution_count": 589,
   "id": "5787f6c5",
   "metadata": {},
   "outputs": [],
   "source": [
    "df_gabungan[\"kategori_pmi\"] = df_gabungan[\"kategori_pmi\"].astype(\"int64\")"
   ]
  },
  {
   "cell_type": "code",
   "execution_count": 590,
   "id": "2962c725",
   "metadata": {},
   "outputs": [
    {
     "name": "stdout",
     "output_type": "stream",
     "text": [
      "<class 'pandas.core.frame.DataFrame'>\n",
      "Int64Index: 12005 entries, 0 to 12004\n",
      "Data columns (total 11 columns):\n",
      " #   Column                                Non-Null Count  Dtype  \n",
      "---  ------                                --------------  -----  \n",
      " 0   tahun                                 12005 non-null  int64  \n",
      " 1   persen_rumah_menyewa                  12005 non-null  float64\n",
      " 2   prov                                  12005 non-null  object \n",
      " 3   tahun_x                               12005 non-null  int64  \n",
      " 4   jumlah_naik_haji                      12005 non-null  float64\n",
      " 5   tahun_y                               12005 non-null  int64  \n",
      " 6   proporsi_kerja_informal_nonpertanian  12005 non-null  float64\n",
      " 7   pct_perempuan_managerial              12005 non-null  float64\n",
      " 8   pct_tdk_cukup_pangan                  12005 non-null  float64\n",
      " 9   melek_huruf_diatas15                  12005 non-null  object \n",
      " 10  kategori_pmi                          12005 non-null  int64  \n",
      "dtypes: float64(5), int64(4), object(2)\n",
      "memory usage: 1.1+ MB\n"
     ]
    }
   ],
   "source": [
    "df_gabungan.info()"
   ]
  },
  {
   "cell_type": "code",
   "execution_count": 591,
   "id": "2b6916b4",
   "metadata": {},
   "outputs": [
    {
     "data": {
      "text/plain": [
       "tahun                                   0\n",
       "persen_rumah_menyewa                    0\n",
       "prov                                    0\n",
       "tahun_x                                 0\n",
       "jumlah_naik_haji                        0\n",
       "tahun_y                                 0\n",
       "proporsi_kerja_informal_nonpertanian    0\n",
       "pct_perempuan_managerial                0\n",
       "pct_tdk_cukup_pangan                    0\n",
       "melek_huruf_diatas15                    0\n",
       "kategori_pmi                            0\n",
       "dtype: int64"
      ]
     },
     "execution_count": 591,
     "metadata": {},
     "output_type": "execute_result"
    }
   ],
   "source": [
    "df_gabungan.isnull().sum()"
   ]
  },
  {
   "cell_type": "code",
   "execution_count": 592,
   "id": "814653bb",
   "metadata": {},
   "outputs": [
    {
     "data": {
      "text/html": [
       "<div>\n",
       "<style scoped>\n",
       "    .dataframe tbody tr th:only-of-type {\n",
       "        vertical-align: middle;\n",
       "    }\n",
       "\n",
       "    .dataframe tbody tr th {\n",
       "        vertical-align: top;\n",
       "    }\n",
       "\n",
       "    .dataframe thead th {\n",
       "        text-align: right;\n",
       "    }\n",
       "</style>\n",
       "<table border=\"1\" class=\"dataframe\">\n",
       "  <thead>\n",
       "    <tr style=\"text-align: right;\">\n",
       "      <th></th>\n",
       "      <th>tahun</th>\n",
       "      <th>persen_rumah_menyewa</th>\n",
       "      <th>prov</th>\n",
       "      <th>tahun_x</th>\n",
       "      <th>jumlah_naik_haji</th>\n",
       "      <th>tahun_y</th>\n",
       "      <th>proporsi_kerja_informal_nonpertanian</th>\n",
       "      <th>pct_perempuan_managerial</th>\n",
       "      <th>pct_tdk_cukup_pangan</th>\n",
       "      <th>melek_huruf_diatas15</th>\n",
       "      <th>kategori_pmi</th>\n",
       "    </tr>\n",
       "  </thead>\n",
       "  <tbody>\n",
       "    <tr>\n",
       "      <th>0</th>\n",
       "      <td>2021</td>\n",
       "      <td>6.86</td>\n",
       "      <td>ACEH</td>\n",
       "      <td>2016</td>\n",
       "      <td>3135.0</td>\n",
       "      <td>2021</td>\n",
       "      <td>46.0</td>\n",
       "      <td>31.0</td>\n",
       "      <td>7.0</td>\n",
       "      <td>98.24</td>\n",
       "      <td>4</td>\n",
       "    </tr>\n",
       "    <tr>\n",
       "      <th>1</th>\n",
       "      <td>2021</td>\n",
       "      <td>6.86</td>\n",
       "      <td>ACEH</td>\n",
       "      <td>2016</td>\n",
       "      <td>3135.0</td>\n",
       "      <td>2020</td>\n",
       "      <td>48.0</td>\n",
       "      <td>33.0</td>\n",
       "      <td>9.0</td>\n",
       "      <td>98.25</td>\n",
       "      <td>4</td>\n",
       "    </tr>\n",
       "    <tr>\n",
       "      <th>2</th>\n",
       "      <td>2021</td>\n",
       "      <td>6.86</td>\n",
       "      <td>ACEH</td>\n",
       "      <td>2016</td>\n",
       "      <td>3135.0</td>\n",
       "      <td>2019</td>\n",
       "      <td>41.0</td>\n",
       "      <td>26.0</td>\n",
       "      <td>9.0</td>\n",
       "      <td>98.21</td>\n",
       "      <td>4</td>\n",
       "    </tr>\n",
       "    <tr>\n",
       "      <th>3</th>\n",
       "      <td>2021</td>\n",
       "      <td>6.86</td>\n",
       "      <td>ACEH</td>\n",
       "      <td>2016</td>\n",
       "      <td>3135.0</td>\n",
       "      <td>2018</td>\n",
       "      <td>43.0</td>\n",
       "      <td>21.0</td>\n",
       "      <td>9.0</td>\n",
       "      <td>98.03</td>\n",
       "      <td>4</td>\n",
       "    </tr>\n",
       "    <tr>\n",
       "      <th>4</th>\n",
       "      <td>2021</td>\n",
       "      <td>6.86</td>\n",
       "      <td>ACEH</td>\n",
       "      <td>2016</td>\n",
       "      <td>3135.0</td>\n",
       "      <td>2017</td>\n",
       "      <td>42.0</td>\n",
       "      <td>21.0</td>\n",
       "      <td>8.0</td>\n",
       "      <td>97.94</td>\n",
       "      <td>4</td>\n",
       "    </tr>\n",
       "    <tr>\n",
       "      <th>5</th>\n",
       "      <td>2021</td>\n",
       "      <td>6.86</td>\n",
       "      <td>ACEH</td>\n",
       "      <td>2016</td>\n",
       "      <td>3135.0</td>\n",
       "      <td>2016</td>\n",
       "      <td>42.0</td>\n",
       "      <td>18.0</td>\n",
       "      <td>8.0</td>\n",
       "      <td>0</td>\n",
       "      <td>0</td>\n",
       "    </tr>\n",
       "    <tr>\n",
       "      <th>6</th>\n",
       "      <td>2021</td>\n",
       "      <td>6.86</td>\n",
       "      <td>ACEH</td>\n",
       "      <td>2016</td>\n",
       "      <td>3135.0</td>\n",
       "      <td>2015</td>\n",
       "      <td>41.0</td>\n",
       "      <td>15.0</td>\n",
       "      <td>8.0</td>\n",
       "      <td>0</td>\n",
       "      <td>0</td>\n",
       "    </tr>\n",
       "    <tr>\n",
       "      <th>7</th>\n",
       "      <td>2021</td>\n",
       "      <td>6.86</td>\n",
       "      <td>ACEH</td>\n",
       "      <td>2015</td>\n",
       "      <td>3145.0</td>\n",
       "      <td>2021</td>\n",
       "      <td>46.0</td>\n",
       "      <td>31.0</td>\n",
       "      <td>7.0</td>\n",
       "      <td>98.24</td>\n",
       "      <td>4</td>\n",
       "    </tr>\n",
       "    <tr>\n",
       "      <th>8</th>\n",
       "      <td>2021</td>\n",
       "      <td>6.86</td>\n",
       "      <td>ACEH</td>\n",
       "      <td>2015</td>\n",
       "      <td>3145.0</td>\n",
       "      <td>2020</td>\n",
       "      <td>48.0</td>\n",
       "      <td>33.0</td>\n",
       "      <td>9.0</td>\n",
       "      <td>98.25</td>\n",
       "      <td>4</td>\n",
       "    </tr>\n",
       "    <tr>\n",
       "      <th>9</th>\n",
       "      <td>2021</td>\n",
       "      <td>6.86</td>\n",
       "      <td>ACEH</td>\n",
       "      <td>2015</td>\n",
       "      <td>3145.0</td>\n",
       "      <td>2019</td>\n",
       "      <td>41.0</td>\n",
       "      <td>26.0</td>\n",
       "      <td>9.0</td>\n",
       "      <td>98.21</td>\n",
       "      <td>4</td>\n",
       "    </tr>\n",
       "  </tbody>\n",
       "</table>\n",
       "</div>"
      ],
      "text/plain": [
       "   tahun  persen_rumah_menyewa  prov  tahun_x  jumlah_naik_haji  tahun_y  \\\n",
       "0   2021                  6.86  ACEH     2016            3135.0     2021   \n",
       "1   2021                  6.86  ACEH     2016            3135.0     2020   \n",
       "2   2021                  6.86  ACEH     2016            3135.0     2019   \n",
       "3   2021                  6.86  ACEH     2016            3135.0     2018   \n",
       "4   2021                  6.86  ACEH     2016            3135.0     2017   \n",
       "5   2021                  6.86  ACEH     2016            3135.0     2016   \n",
       "6   2021                  6.86  ACEH     2016            3135.0     2015   \n",
       "7   2021                  6.86  ACEH     2015            3145.0     2021   \n",
       "8   2021                  6.86  ACEH     2015            3145.0     2020   \n",
       "9   2021                  6.86  ACEH     2015            3145.0     2019   \n",
       "\n",
       "   proporsi_kerja_informal_nonpertanian  pct_perempuan_managerial  \\\n",
       "0                                  46.0                      31.0   \n",
       "1                                  48.0                      33.0   \n",
       "2                                  41.0                      26.0   \n",
       "3                                  43.0                      21.0   \n",
       "4                                  42.0                      21.0   \n",
       "5                                  42.0                      18.0   \n",
       "6                                  41.0                      15.0   \n",
       "7                                  46.0                      31.0   \n",
       "8                                  48.0                      33.0   \n",
       "9                                  41.0                      26.0   \n",
       "\n",
       "   pct_tdk_cukup_pangan melek_huruf_diatas15  kategori_pmi  \n",
       "0                   7.0                98.24             4  \n",
       "1                   9.0                98.25             4  \n",
       "2                   9.0                98.21             4  \n",
       "3                   9.0                98.03             4  \n",
       "4                   8.0                97.94             4  \n",
       "5                   8.0                    0             0  \n",
       "6                   8.0                    0             0  \n",
       "7                   7.0                98.24             4  \n",
       "8                   9.0                98.25             4  \n",
       "9                   9.0                98.21             4  "
      ]
     },
     "execution_count": 592,
     "metadata": {},
     "output_type": "execute_result"
    }
   ],
   "source": [
    "df_gabungan.head(10)"
   ]
  },
  {
   "cell_type": "markdown",
   "id": "654ea460",
   "metadata": {},
   "source": [
    "## Menghapus tabel tahun_x dan tahun_y karena sudah ada kolom tahun"
   ]
  },
  {
   "cell_type": "code",
   "execution_count": 593,
   "id": "82ae8e6c",
   "metadata": {},
   "outputs": [],
   "source": [
    "df_gabungan = df_gabungan.drop(['tahun_x', 'tahun_y'], axis =1)"
   ]
  },
  {
   "cell_type": "markdown",
   "id": "395d2344",
   "metadata": {},
   "source": [
    "## Analisis dan EDA"
   ]
  },
  {
   "cell_type": "code",
   "execution_count": 613,
   "id": "649ed607",
   "metadata": {},
   "outputs": [
    {
     "data": {
      "text/plain": [
       "<AxesSubplot:xlabel='prov'>"
      ]
     },
     "execution_count": 613,
     "metadata": {},
     "output_type": "execute_result"
    },
    {
     "data": {
      "image/png": "[encoded data removed]",
      "text/plain": [
       "<Figure size 432x288 with 1 Axes>"
      ]
     },
     "metadata": {
      "needs_background": "light"
     },
     "output_type": "display_data"
    }
   ],
   "source": [
    "df_groups = df3.groupby(['prov'])[['pct_perempuan_managerial']].sum()\n",
    "\n",
    "#create bar plot by group\n",
    "df_groups.plot(kind='bar')"
   ]
  },
  {
   "cell_type": "markdown",
   "id": "6b3c0d2c",
   "metadata": {},
   "source": [
    "dilihat dari plot diatas bahwa yang memiliki persentase perempuan_managerial adalah prov sulawesi utara"
   ]
  },
  {
   "cell_type": "code",
   "execution_count": 611,
   "id": "32418b27",
   "metadata": {},
   "outputs": [
    {
     "data": {
      "text/plain": [
       "<AxesSubplot:xlabel='prov'>"
      ]
     },
     "execution_count": 611,
     "metadata": {},
     "output_type": "execute_result"
    },
    {
     "data": {
      "image/png": "[encoded data removed]",
      "text/plain": [
       "<Figure size 432x288 with 1 Axes>"
      ]
     },
     "metadata": {
      "needs_background": "light"
     },
     "output_type": "display_data"
    }
   ],
   "source": [
    "df_groups = df_gabungan.groupby(['prov'])[['jumlah_naik_haji']].mean()\n",
    "\n",
    "#create bar plot by group\n",
    "df_groups.plot(kind='bar')"
   ]
  },
  {
   "cell_type": "code",
   "execution_count": 618,
   "id": "98814b8f",
   "metadata": {},
   "outputs": [
    {
     "data": {
      "text/plain": [
       "<seaborn.axisgrid.FacetGrid at 0x1b53c989820>"
      ]
     },
     "execution_count": 618,
     "metadata": {},
     "output_type": "execute_result"
    },
    {
     "data": {
      "image/png": "[encoded data removed]",
      "text/plain": [
       "<Figure size 792.875x720 with 1 Axes>"
      ]
     },
     "metadata": {
      "needs_background": "light"
     },
     "output_type": "display_data"
    }
   ],
   "source": [
    "sns.catplot(x=\"jumlah_naik_haji\", y=\"prov\", hue=\"kategori_pmi\", data=df_gabungan, height=10)"
   ]
  },
  {
   "cell_type": "markdown",
   "id": "c0ba496b",
   "metadata": {},
   "source": [
    "dapat dilihat dari plot diatas bahwa angka jumlah_naik_haji yang tinggi mempengaruhi tingkat kategori pmi"
   ]
  },
  {
   "cell_type": "markdown",
   "id": "873241fe",
   "metadata": {},
   "source": [
    "# Klasifikasi"
   ]
  },
  {
   "cell_type": "markdown",
   "id": "896bb570",
   "metadata": {},
   "source": [
    "## Kelas Target"
   ]
  },
  {
   "cell_type": "code",
   "execution_count": 596,
   "id": "644a59f2",
   "metadata": {},
   "outputs": [],
   "source": [
    "from sklearn import preprocessing\n",
    "le = preprocessing.LabelEncoder()\n",
    "le.fit(df_gabungan.kategori_pmi)\n",
    "Y = le.transform(df_gabungan.kategori_pmi) "
   ]
  },
  {
   "cell_type": "code",
   "execution_count": 597,
   "id": "a74cab97",
   "metadata": {},
   "outputs": [
    {
     "data": {
      "text/plain": [
       "[0, 1, 3, 4, 5]"
      ]
     },
     "execution_count": 597,
     "metadata": {},
     "output_type": "execute_result"
    }
   ],
   "source": [
    "list(le.classes_)"
   ]
  },
  {
   "cell_type": "markdown",
   "id": "af91776f",
   "metadata": {},
   "source": [
    "## Menghapus tabel kategori_pmi dan prov untuk keperluan klasifikasi"
   ]
  },
  {
   "cell_type": "code",
   "execution_count": 598,
   "id": "78c9502e",
   "metadata": {},
   "outputs": [],
   "source": [
    "X = df_gabungan.drop([\"kategori_pmi\"],axis=1)\n",
    "X = df_gabungan.drop([\"prov\"],axis=1)"
   ]
  },
  {
   "cell_type": "markdown",
   "id": "65700859",
   "metadata": {},
   "source": [
    "## Split Data"
   ]
  },
  {
   "cell_type": "code",
   "execution_count": 599,
   "id": "90fa833e",
   "metadata": {},
   "outputs": [],
   "source": [
    "from sklearn.model_selection import train_test_split\n",
    "X_train,X_test,Y_train,Y_test=train_test_split(X,Y,test_size=0.2,random_state=None)"
   ]
  },
  {
   "cell_type": "markdown",
   "id": "c28d6a44",
   "metadata": {},
   "source": [
    "## Metode Naive Bayes"
   ]
  },
  {
   "cell_type": "code",
   "execution_count": 601,
   "id": "9adc6494",
   "metadata": {},
   "outputs": [
    {
     "name": "stdout",
     "output_type": "stream",
     "text": [
      "Akurasi 0.9441899208663057\n",
      "              precision    recall  f1-score   support\n",
      "\n",
      "           0       1.00      1.00      1.00       769\n",
      "           1       1.00      1.00      1.00        10\n",
      "           2       0.91      0.90      0.90       622\n",
      "           3       0.93      0.93      0.93       951\n",
      "           4       0.81      0.90      0.85        49\n",
      "\n",
      "    accuracy                           0.94      2401\n",
      "   macro avg       0.93      0.95      0.94      2401\n",
      "weighted avg       0.94      0.94      0.94      2401\n",
      "\n"
     ]
    }
   ],
   "source": [
    "clf = GaussianNB()\n",
    "clf.fit(X_train, Y_train)\n",
    "Y_pred = clf.predict(X_test)\n",
    "acc = accuracy_score(Y_test, Y_pred)\n",
    "print(\"Akurasi {}\".format(acc))\n",
    "print(classification_report(Y_test, Y_pred))"
   ]
  },
  {
   "cell_type": "markdown",
   "id": "3af86e76",
   "metadata": {},
   "source": [
    "## Metode Decision Tree"
   ]
  },
  {
   "cell_type": "code",
   "execution_count": 602,
   "id": "2764cf6e",
   "metadata": {},
   "outputs": [
    {
     "name": "stdout",
     "output_type": "stream",
     "text": [
      "Akurasi 1.0\n",
      "              precision    recall  f1-score   support\n",
      "\n",
      "           0       1.00      1.00      1.00       769\n",
      "           1       1.00      1.00      1.00        10\n",
      "           2       1.00      1.00      1.00       622\n",
      "           3       1.00      1.00      1.00       951\n",
      "           4       1.00      1.00      1.00        49\n",
      "\n",
      "    accuracy                           1.00      2401\n",
      "   macro avg       1.00      1.00      1.00      2401\n",
      "weighted avg       1.00      1.00      1.00      2401\n",
      "\n"
     ]
    }
   ],
   "source": [
    "clf = tree.DecisionTreeClassifier()\n",
    "clf.fit(X_train, Y_train)\n",
    "Y_pred = clf.predict(X_test)\n",
    "acc = accuracy_score(Y_test, Y_pred)\n",
    "print(\"Akurasi {}\".format(acc))\n",
    "print(classification_report(Y_test, Y_pred))"
   ]
  },
  {
   "cell_type": "code",
   "execution_count": null,
   "id": "06d3fb62",
   "metadata": {},
   "outputs": [],
   "source": []
  }
 ],
 "metadata": {
  "kernelspec": {
   "display_name": "Python 3 (ipykernel)",
   "language": "python",
   "name": "python3"
  },
  "language_info": {
   "codemirror_mode": {
    "name": "ipython",
    "version": 3
   },
   "file_extension": ".py",
   "mimetype": "text/x-python",
   "name": "python",
   "nbconvert_exporter": "python",
   "pygments_lexer": "ipython3",
   "version": "3.9.12"
  }
 },
 "nbformat": 4,
 "nbformat_minor": 5
}
